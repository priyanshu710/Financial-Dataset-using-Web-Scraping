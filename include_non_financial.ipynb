{
 "cells": [
  {
   "cell_type": "code",
   "execution_count": 4,
   "metadata": {},
   "outputs": [
    {
     "name": "stdout",
     "output_type": "stream",
     "text": [
      "{2002.0: {'Year': 2002.0, 'Inflation Rate': 3.779293122, 'Unemployement Rate': nan, 'Real Interest Rate': 8.591449296, 'GDP': 4.823966264}, 2003.0: {'Year': 2003.0, 'Inflation Rate': 4.297152039, 'Unemployement Rate': nan, 'Real Interest Rate': 7.90717719, 'GDP': 3.803975321}, 2004.0: {'Year': 2004.0, 'Inflation Rate': 3.805858995, 'Unemployement Rate': nan, 'Real Interest Rate': 7.30788116, 'GDP': 7.860381476}, 2005.0: {'Year': 2005.0, 'Inflation Rate': 3.767251735, 'Unemployement Rate': nan, 'Real Interest Rate': 4.910128304, 'GDP': 7.922936613}, 2006.0: {'Year': 2006.0, 'Inflation Rate': 4.24634362, 'Unemployement Rate': nan, 'Real Interest Rate': 4.855145172, 'GDP': 7.923430621}, 2007.0: {'Year': 2007.0, 'Inflation Rate': 5.796523376, 'Unemployement Rate': nan, 'Real Interest Rate': 2.570606702, 'GDP': 8.060732573}, 2008.0: {'Year': 2008.0, 'Inflation Rate': 6.372881356, 'Unemployement Rate': 5.41, 'Real Interest Rate': 5.681844063, 'GDP': 7.660815065}, 2009.0: {'Year': 2009.0, 'Inflation Rate': 8.349267049, 'Unemployement Rate': 5.54, 'Real Interest Rate': 3.77175625, 'GDP': 3.08669806}, 2010.0: {'Year': 2010.0, 'Inflation Rate': 10.88235294, 'Unemployement Rate': 5.55, 'Real Interest Rate': 4.808592108, 'GDP': 7.861888833}, 2011.0: {'Year': 2011.0, 'Inflation Rate': 11.98938992, 'Unemployement Rate': 5.43, 'Real Interest Rate': -1.983859222, 'GDP': 8.497584702}, 2012.0: {'Year': 2012.0, 'Inflation Rate': 8.911793365, 'Unemployement Rate': 5.41, 'Real Interest Rate': 1.317979708, 'GDP': 5.241315001}, 2013.0: {'Year': 2013.0, 'Inflation Rate': 9.478996914, 'Unemployement Rate': 5.42, 'Real Interest Rate': 2.473521635, 'GDP': 5.456388753}, 2014.0: {'Year': 2014.0, 'Inflation Rate': 10.01787847, 'Unemployement Rate': 5.44, 'Real Interest Rate': 3.865992884, 'GDP': 6.386106401}, 2015.0: {'Year': 2015.0, 'Inflation Rate': 6.665656719, 'Unemployement Rate': 5.44, 'Real Interest Rate': 6.69517609, 'GDP': 7.410227605}, 2016.0: {'Year': 2016.0, 'Inflation Rate': 4.906973441, 'Unemployement Rate': 5.42, 'Real Interest Rate': 7.556488414, 'GDP': 7.996253786}, 2017.0: {'Year': 2017.0, 'Inflation Rate': 4.948216341, 'Unemployement Rate': 5.36, 'Real Interest Rate': 6.232711415, 'GDP': 8.256305502}, 2018.0: {'Year': 2018.0, 'Inflation Rate': 3.328173375, 'Unemployement Rate': 5.33, 'Real Interest Rate': 5.327608862, 'GDP': 6.795383419}, 2019.0: {'Year': 2019.0, 'Inflation Rate': 3.938826467, 'Unemployement Rate': 5.27, 'Real Interest Rate': 5.36166639, 'GDP': 6.453851345}, 2020.0: {'Year': 2020.0, 'Inflation Rate': 3.729505735, 'Unemployement Rate': 8.0, 'Real Interest Rate': 6.894875427, 'GDP': 3.871436941}, 2021.0: {'Year': 2021.0, 'Inflation Rate': 6.623436776, 'Unemployement Rate': 5.98, 'Real Interest Rate': 4.203910403, 'GDP': -5.83105322}, 2022.0: {'Year': 2022.0, 'Inflation Rate': 5.131407472, 'Unemployement Rate': 7.33, 'Real Interest Rate': 0.1472360633, 'GDP': 9.050277908}, 2023.0: {'Year': 2023.0, 'Inflation Rate': 6.699034141, 'Unemployement Rate': 10.05, 'Real Interest Rate': 0.2298150623, 'GDP': 7.002951544}}\n"
     ]
    }
   ],
   "source": [
    "import pandas as pd\n",
    "\n",
    "google_sheets_link = \"https://docs.google.com/spreadsheets/d/14zQVeDZduYF0PLqCGdZoiuI1E2DzRQNZkJWTAAoO2XY/export?format=csv\"\n",
    "data = pd.read_csv(google_sheets_link)\n",
    "\n",
    "# # Create an empty dictionary to store individual dictionaries\n",
    "dict_of_dicts = {}\n",
    "\n",
    "# Iterate through each row in the DataFrame\n",
    "for index, row in data.iterrows():\n",
    "    # Create a dictionary for the current row\n",
    "    current_dict = {col: row[col] for col in data.columns}\n",
    "    \n",
    "    # Get the value from the 'Feature' column to use as the dictionary key\n",
    "    feature_value = row['Year']\n",
    "    \n",
    "    # Assign the current dictionary to the main dictionary using the 'Feature' value as the key\n",
    "    dict_of_dicts[feature_value] = current_dict\n",
    "\n",
    "# Show the dictionary of dictionaries (optional)\n",
    "print(dict_of_dicts)"
   ]
  },
  {
   "cell_type": "code",
   "execution_count": 5,
   "metadata": {},
   "outputs": [],
   "source": [
    "import pandas as pd\n",
    "\n",
    "# Read the CSV file where you want to add columns based on dict_of_dicts\n",
    "# Replace 'your_other_file.csv' with your actual file path\n",
    "other_file_path = '/home/student/Desktop/Results for Paper/adjusted_dates_transposed_dataset.csv'\n",
    "other_data = pd.read_csv(other_file_path)\n",
    "\n",
    "# Iterate through each dictionary in dict_of_dicts\n",
    "for dict_name, inner_dict in dict_of_dicts.items():\n",
    "    # Create a new column with the dictionary name\n",
    "    other_data[dict_name] = None  # Initialize the column with None values\n",
    "\n",
    "    # Iterate through the 'Year' column in the other CSV file\n",
    "    for index, year_value in other_data['Feature_name'].items():\n",
    "        # Check if the year exists as a key in the current inner dictionary\n",
    "        if year_value in inner_dict:\n",
    "            # Assign the corresponding value to the column if the year is found\n",
    "            other_data.at[index, dict_name] = inner_dict[year_value]\n",
    "\n",
    "# Save the updated DataFrame to a new CSV file\n",
    "other_data.to_csv('latest_healthy_dataset.csv', index=False)\n"
   ]
  }
 ],
 "metadata": {
  "kernelspec": {
   "display_name": "major",
   "language": "python",
   "name": "python3"
  },
  "language_info": {
   "codemirror_mode": {
    "name": "ipython",
    "version": 3
   },
   "file_extension": ".py",
   "mimetype": "text/x-python",
   "name": "python",
   "nbconvert_exporter": "python",
   "pygments_lexer": "ipython3",
   "version": "3.10.9"
  },
  "orig_nbformat": 4
 },
 "nbformat": 4,
 "nbformat_minor": 2
}
