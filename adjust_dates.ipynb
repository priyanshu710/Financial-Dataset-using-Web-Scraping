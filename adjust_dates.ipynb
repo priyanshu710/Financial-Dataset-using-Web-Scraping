{
 "cells": [
  {
   "cell_type": "code",
   "execution_count": 1,
   "metadata": {},
   "outputs": [],
   "source": [
    "import pandas as pd\n",
    "from datetime import datetime\n",
    "\n",
    "# Read the CSV file into a pandas DataFrame\n",
    "data = pd.read_csv('/home/student/Desktop/Results for Paper/Statements to Dataset/New_combined_transposed_financial_data.csv')\n",
    "\n",
    "# Define a function to convert abbreviated dates to full year format\n",
    "def convert_date(date_str):\n",
    "    # Parse the date string using datetime\n",
    "    date = datetime.strptime(date_str, '%b %y')\n",
    "    # Convert the parsed date to a string in the format 'YYYY'\n",
    "    return date.strftime('%Y')\n",
    "\n",
    "# Apply the conversion function to the 'Feature_name' column\n",
    "data['Feature_name'] = data['Feature_name'].apply(convert_date)\n",
    "\n",
    "# Save the updated DataFrame to a new CSV file\n",
    "data.to_csv('adjusted_dates_transposed_dataset.csv', index=False)\n"
   ]
  }
 ],
 "metadata": {
  "kernelspec": {
   "display_name": "major",
   "language": "python",
   "name": "python3"
  },
  "language_info": {
   "codemirror_mode": {
    "name": "ipython",
    "version": 3
   },
   "file_extension": ".py",
   "mimetype": "text/x-python",
   "name": "python",
   "nbconvert_exporter": "python",
   "pygments_lexer": "ipython3",
   "version": "3.10.9"
  },
  "orig_nbformat": 4
 },
 "nbformat": 4,
 "nbformat_minor": 2
}
