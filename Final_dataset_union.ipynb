{
 "cells": [
  {
   "cell_type": "code",
   "execution_count": 1,
   "metadata": {},
   "outputs": [],
   "source": [
    "import os\n",
    "import pandas as pd\n",
    "\n",
    "# Path to the main folder containing all the company folders\n",
    "main_folder = \"/home/student/Desktop/Dataset Creation/Statements to Dataset/Financial_Statements\"\n",
    "\n",
    "# Initialize an empty DataFrame to store the concatenated data\n",
    "combined_data = pd.DataFrame()\n",
    "\n",
    "# Iterate through each folder in the main folder\n",
    "for foldername in os.listdir(main_folder):\n",
    "    folder_path = os.path.join(main_folder, foldername)\n",
    "    \n",
    "    # Check if the item in the main folder is a directory\n",
    "    if os.path.isdir(folder_path):\n",
    "        file_path = os.path.join(folder_path, \"New_Final_Data.csv\")\n",
    "        \n",
    "        # Check if the Final_Data.csv file exists in the current folder\n",
    "        if os.path.exists(file_path):\n",
    "            # Read the CSV file into a DataFrame\n",
    "            data = pd.read_csv(file_path)\n",
    "            \n",
    "            # Append the data to the combined_data DataFrame\n",
    "            combined_data = pd.concat([combined_data, data])\n",
    "\n",
    "# Write the combined data to a new CSV file\n",
    "combined_data.to_csv(\"New_combined_financial_data.csv\", index=False)\n"
   ]
  },
  {
   "cell_type": "code",
   "execution_count": 2,
   "metadata": {},
   "outputs": [],
   "source": [
    "import os\n",
    "import pandas as pd\n",
    "\n",
    "# Path to the main folder containing all the company folders\n",
    "main_folder = \"/home/student/Desktop/Dataset Creation/Statements to Dataset/Financial_Statements\"\n",
    "\n",
    "# Initialize an empty DataFrame to store the combined transposed data\n",
    "combined_transposed_data = pd.DataFrame()\n",
    "\n",
    "# Iterate through each folder in the main folder\n",
    "for foldername in os.listdir(main_folder):\n",
    "    folder_path = os.path.join(main_folder, foldername)\n",
    "    \n",
    "    # Check if the item in the main folder is a directory\n",
    "    if os.path.isdir(folder_path):\n",
    "        file_path = os.path.join(folder_path, \"New_Final_Data.csv\")\n",
    "        \n",
    "        # Check if the Final_Data.csv file exists in the current folder\n",
    "        if os.path.exists(file_path):\n",
    "            # Read the CSV file into a DataFrame\n",
    "            data = pd.read_csv(file_path)\n",
    "            \n",
    "            # Transpose the data and set the \"Feature_name\" as the header\n",
    "            transposed_data = data.T.reset_index()\n",
    "            \n",
    "            # Set the first row as the column headers\n",
    "            transposed_data.columns = transposed_data.iloc[0]\n",
    "            \n",
    "            # Remove the first row after setting as column headers\n",
    "            transposed_data = transposed_data[1:]\n",
    "            \n",
    "            # Add a new column \"Folder_name\" with the current folder's name\n",
    "            transposed_data['Folder_name'] = foldername\n",
    "            \n",
    "            # Append the transposed data to the combined_transposed_data DataFrame\n",
    "            combined_transposed_data = pd.concat([combined_transposed_data, transposed_data])\n",
    "\n",
    "# Write the combined transposed data to a new CSV file\n",
    "combined_transposed_data.to_csv(\"New_combined_transposed_financial_data.csv\", index=False)\n"
   ]
  }
 ],
 "metadata": {
  "kernelspec": {
   "display_name": "major",
   "language": "python",
   "name": "python3"
  },
  "language_info": {
   "codemirror_mode": {
    "name": "ipython",
    "version": 3
   },
   "file_extension": ".py",
   "mimetype": "text/x-python",
   "name": "python",
   "nbconvert_exporter": "python",
   "pygments_lexer": "ipython3",
   "version": "3.9.17"
  },
  "orig_nbformat": 4
 },
 "nbformat": 4,
 "nbformat_minor": 2
}
